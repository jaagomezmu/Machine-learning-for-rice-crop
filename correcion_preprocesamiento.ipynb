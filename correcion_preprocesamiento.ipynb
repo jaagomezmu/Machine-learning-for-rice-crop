{
 "cells": [
  {
   "cell_type": "code",
   "execution_count": 1,
   "metadata": {},
   "outputs": [],
   "source": [
    "import pandas as pd\n",
    "import numpy as np"
   ]
  },
  {
   "cell_type": "code",
   "execution_count": 2,
   "metadata": {},
   "outputs": [],
   "source": [
    "lotes_sensores_pesos = pd.read_excel('lotes_sensores_pesos.xlsx')\n",
    "brigadas_fitosanitarias_pesos = pd.read_excel('brigadas_fitosanitarias_pesos.xlsx')"
   ]
  },
  {
   "cell_type": "markdown",
   "metadata": {},
   "source": [
    "### Se han calculado los pesos relativos, falta hacer la sumatoria para subsanar el error."
   ]
  },
  {
   "cell_type": "code",
   "execution_count": 4,
   "metadata": {},
   "outputs": [],
   "source": [
    "lotes_sensores_pesos['med_pond_sev_piricularia_hoja'] = lotes_sensores_pesos['sev_piricularia_hoja'].sum()\n",
    "lotes_sensores_pesos['med_pond_sev_helmitosporium'] = lotes_sensores_pesos['sev_helmitosporium'].sum()\n",
    "lotes_sensores_pesos['med_pond_sev_rhizoctonia'] = lotes_sensores_pesos['sev_rhizoctonia'].sum()\n",
    "lotes_sensores_pesos['med_pond_sev_cercospora'] = lotes_sensores_pesos['sev_cercospora'].sum()\n",
    "lotes_sensores_pesos['med_pond_sev_escaldado'] = lotes_sensores_pesos['sev_escaldado'].sum()\n",
    "lotes_sensores_pesos['med_pond_sev_mancha_cafe'] = lotes_sensores_pesos['sev_mancha_cafe'].sum()\n",
    "lotes_sensores_pesos['med_pond_sev_gaeumanomices'] = lotes_sensores_pesos['sev_gaeumanomices'].sum()\n",
    "lotes_sensores_pesos['med_pond_sev_manchado_grano'] = lotes_sensores_pesos['sev_manchado_grano'].sum()\n",
    "lotes_sensores_pesos['med_pond_porc_vaneamiento_ajustado'] = lotes_sensores_pesos['porc_vaneamiento_ajustado'].sum()\n",
    "lotes_sensores_pesos['med_pond_inc_entorchamiento'] = lotes_sensores_pesos['inc_entorchamiento'].sum()\n",
    "lotes_sensores_pesos['med_pond_inc_hoja blanca'] = lotes_sensores_pesos['inc_hoja blanca'].sum()\n",
    "lotes_sensores_pesos['med_pond_inc_piri_hoja'] = lotes_sensores_pesos['inc_piri_hoja'].sum()\n",
    "lotes_sensores_pesos['med_pond_inc_helmitosporium'] = lotes_sensores_pesos['inc_helmitosporium'].sum()\n",
    "lotes_sensores_pesos['med_pond_inc_rhizoctonia'] = lotes_sensores_pesos['inc_rhizoctonia'].sum()\n",
    "lotes_sensores_pesos['med_pond_inc_cercospora'] = lotes_sensores_pesos['inc_cercospora'].sum()\n",
    "lotes_sensores_pesos['med_pond_inc_escaldado'] = lotes_sensores_pesos['inc_escaldado'].sum()\n",
    "lotes_sensores_pesos['med_pond_inc_mancha_cafe'] = lotes_sensores_pesos['inc_mancha_cafe'].sum()\n",
    "lotes_sensores_pesos['med_pond_inc_gaeumanomices'] = lotes_sensores_pesos['inc_gaeumanomices'].sum()\n",
    "lotes_sensores_pesos['med_pond_inc_piricularia_cuello'] = lotes_sensores_pesos['inc_piricularia_cuello'].sum()\n",
    "lotes_sensores_pesos['med_pond_inc_sarna_orejas'] = lotes_sensores_pesos['inc_sarna_orejas'].sum()\n",
    "lotes_sensores_pesos['med_pond_inc_complejo_bacterial'] = lotes_sensores_pesos['inc_complejo_bacterial'].sum()"
   ]
  },
  {
   "cell_type": "code",
   "execution_count": 17,
   "metadata": {},
   "outputs": [],
   "source": [
    "lotes_sensores_pesos.iloc[:,83:104].drop_duplicates().to_excel('media_ponderada_lotes_sensores.xlsx',index=False)"
   ]
  },
  {
   "cell_type": "code",
   "execution_count": 24,
   "metadata": {},
   "outputs": [],
   "source": [
    "brigadas_fitosanitarias_pesos['med_pon_inc_rhizoctonia'] = brigadas_fitosanitarias_pesos['inc_rhizoctonia'].sum()\n",
    "brigadas_fitosanitarias_pesos['med_pon_inc_piricularia'] = brigadas_fitosanitarias_pesos['inc_piricularia'].sum()\n",
    "brigadas_fitosanitarias_pesos['med_pon_inc_gaeumanomices'] = brigadas_fitosanitarias_pesos['inc_gaeumanomices'].sum()\n",
    "brigadas_fitosanitarias_pesos['med_pon_inc_helmitosporium'] = brigadas_fitosanitarias_pesos['inc_helmitosporium'].sum()\n",
    "brigadas_fitosanitarias_pesos['med_pon_inc_barrenador'] = brigadas_fitosanitarias_pesos['inc_barrenador'].sum()\n",
    "brigadas_fitosanitarias_pesos['med_pon_inc_mancha_cafe'] = brigadas_fitosanitarias_pesos['inc_mancha_cafe'].sum()\n",
    "brigadas_fitosanitarias_pesos['med_pon_sev_mancha_cafe'] = brigadas_fitosanitarias_pesos['sev_mancha_cafe'].sum()\n",
    "brigadas_fitosanitarias_pesos['med_pon_inc_complejo_bacteriano'] = brigadas_fitosanitarias_pesos['inc_complejo_bacteriano'].sum()\n",
    "brigadas_fitosanitarias_pesos['med_pon_porc_vaneamiento'] = brigadas_fitosanitarias_pesos['porc_vaneamiento'].sum()"
   ]
  },
  {
   "cell_type": "code",
   "execution_count": 29,
   "metadata": {},
   "outputs": [],
   "source": [
    "brigadas_fitosanitarias_pesos.iloc[:,58:67].drop_duplicates().to_excel('media_ponderada_brigadas_fitosanitarias.xlsx',index=False)"
   ]
  }
 ],
 "metadata": {
  "interpreter": {
   "hash": "05b5d929e9536fb7c87db1a95b2460fb8a3c6df40ef6a81d721e067c17d9a053"
  },
  "kernelspec": {
   "display_name": "Python 3.10.3 ('aplicativo')",
   "language": "python",
   "name": "python3"
  },
  "language_info": {
   "codemirror_mode": {
    "name": "ipython",
    "version": 3
   },
   "file_extension": ".py",
   "mimetype": "text/x-python",
   "name": "python",
   "nbconvert_exporter": "python",
   "pygments_lexer": "ipython3",
   "version": "3.10.3"
  },
  "orig_nbformat": 4
 },
 "nbformat": 4,
 "nbformat_minor": 2
}
