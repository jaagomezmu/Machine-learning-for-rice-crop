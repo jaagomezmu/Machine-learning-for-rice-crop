{
 "cells": [
  {
   "cell_type": "code",
   "execution_count": null,
   "metadata": {},
   "outputs": [],
   "source": [
    "import pandas as pd\n",
    "pd.set_option('display.max_columns', None)\n",
    "from datetime import datetime, timedelta\n",
    "import warnings\n",
    "warnings.filterwarnings(\"ignore\", category=FutureWarning)"
   ]
  },
  {
   "cell_type": "code",
   "execution_count": null,
   "metadata": {},
   "outputs": [],
   "source": [
    "lotes_sensores = pd.read_table('lotes_sensores_clima30km.txt', sep=',')\n",
    "lotes_sensores['fecha_evaluacion'] = pd.to_datetime(lotes_sensores['fecha_evaluacion'], infer_datetime_format=True) \n",
    "lotes_sensores['fecha_siembra_emergencia'] = pd.to_datetime(lotes_sensores['fecha_siembra_emergencia'], infer_datetime_format=True) \n",
    "db_without_rain = pd.read_table('db_without_rain.txt', sep = ',')\n",
    "db_without_rain['date'] = pd.to_datetime(db_without_rain['date'], infer_datetime_format=True)\n",
    "db_rain = pd.read_table('db_rain.txt', sep = ',')\n",
    "db_rain['date'] = pd.to_datetime(db_rain['date'], infer_datetime_format=True)"
   ]
  },
  {
   "cell_type": "code",
   "execution_count": null,
   "metadata": {},
   "outputs": [],
   "source": [
    "lotes_sensores1 = lotes_sensores.copy()\n",
    "lotes_sensores1['tmax'] = ''\n",
    "lotes_sensores1['tmin'] = ''\n",
    "lotes_sensores1['rhum'] = ''\n",
    "lotes_sensores1['esol'] = ''\n",
    "lotes_sensores1['rain'] = ''"
   ]
  },
  {
   "cell_type": "markdown",
   "metadata": {},
   "source": [
    "# Función tmax, tmin, rhum, esol"
   ]
  },
  {
   "cell_type": "code",
   "execution_count": null,
   "metadata": {},
   "outputs": [],
   "source": [
    "def calculo_piricularia():\n",
    "    datos_resueltos = lotes_sensores1[lotes_sensores1.estacion.notnull()]\n",
    "    piricularia = datos_resueltos[(datos_resueltos['fecha_evaluacion'].notnull()) & (datos_resueltos['nt_con_piricularia_hoja'].notnull())]\n",
    "    piricularia = piricularia.sort_values(by=['fecha_evaluacion'])\n",
    "    for i in range(len(datos_resueltos)):\n",
    "        filtro_estaciones = db_without_rain[db_without_rain['estacion'] == datos_resueltos['estacion'].iloc[i]]\n",
    "        for j in range(len(piricularia)):\n",
    "            beginning = filtro_estaciones[filtro_estaciones['date'] == (piricularia['fecha_evaluacion'].iloc[j] + timedelta(days=-7))].index\n",
    "            beginning = beginning[0]\n",
    "            end = filtro_estaciones[filtro_estaciones['date'] == (piricularia['fecha_evaluacion'].iloc[j])].index\n",
    "            end = end[0]\n",
    "            process = filtro_estaciones.loc[beginning:end]\n",
    "            process = process[['tmax','tmin','rhum','esol']]\n",
    "            media = process.mean()\n",
    "            index_fill = lotes_sensores[lotes_sensores['id'] == piricularia.iloc[0][0]].index\n",
    "            index_fill = index_fill[0]\n",
    "            lotes_sensores1['tmax'].loc[index_fill] = media[0]\n",
    "            lotes_sensores1['tmin'].loc[index_fill] = media[1]\n",
    "            lotes_sensores1['rhum'].loc[index_fill] = media[2]\n",
    "            lotes_sensores1['esol'].loc[index_fill] = media[3]\n",
    "    return lotes_sensores1"
   ]
  },
  {
   "cell_type": "code",
   "execution_count": null,
   "metadata": {},
   "outputs": [],
   "source": [
    "lotes_sensores2 = calculo_piricularia()"
   ]
  }
 ],
 "metadata": {
  "interpreter": {
   "hash": "84220e8c58ee2e54dc7060919531092d181f17fb6058909950c6c542d8f1675e"
  },
  "kernelspec": {
   "display_name": "Python 3.10.2 ('aplicativo': venv)",
   "language": "python",
   "name": "python3"
  },
  "language_info": {
   "codemirror_mode": {
    "name": "ipython",
    "version": 3
   },
   "file_extension": ".py",
   "mimetype": "text/x-python",
   "name": "python",
   "nbconvert_exporter": "python",
   "pygments_lexer": "ipython3",
   "version": "3.10.2"
  },
  "orig_nbformat": 4
 },
 "nbformat": 4,
 "nbformat_minor": 2
}
