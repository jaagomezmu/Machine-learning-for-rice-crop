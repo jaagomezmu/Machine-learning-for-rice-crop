{
 "cells": [
  {
   "cell_type": "code",
   "execution_count": null,
   "metadata": {},
   "outputs": [],
   "source": [
    "import pandas as pd\n",
    "pd.options.display.max_columns = 999\n",
    "import numpy as np\n",
    "import matplotlib.pyplot as plt\n",
    "import seaborn as sns"
   ]
  },
  {
   "cell_type": "code",
   "execution_count": null,
   "metadata": {},
   "outputs": [],
   "source": [
    "# Data  \n",
    "lsp = pd.read_excel('lotes_sensores_pesos.xlsx')\n",
    "bfp = pd.read_excel('brigadas_fitosanitarias_pesos.xlsx')"
   ]
  },
  {
   "cell_type": "markdown",
   "metadata": {},
   "source": [
    "# LOTES SENSORES"
   ]
  },
  {
   "cell_type": "markdown",
   "metadata": {},
   "source": [
    "### Incidencia de las enfermedades por año"
   ]
  },
  {
   "cell_type": "code",
   "execution_count": null,
   "metadata": {},
   "outputs": [],
   "source": [
    "iea = lsp[['anio_db_org', 'fecha_evaluacion','inc_entorchamiento', 'inc_hoja blanca',\n",
    "'inc_piri_hoja', 'inc_helmitosporium', 'inc_rhizoctonia', 'inc_cercospora',\n",
    "       'inc_escaldado', 'inc_mancha_cafe', 'inc_gaeumanomices', 'inc_piricularia_cuello',\n",
    "       'inc_sarna_orejas', 'inc_complejo_bacterial']]\n",
    "# Corrección del año 2015 para la correcta visualización.\n",
    "iea['año'] = np.where(iea.fecha_evaluacion.dt.year == 2015, iea['fecha_evaluacion'].dt.year,iea['anio_db_org'])\n",
    "iea['año'] = iea['año'].astype(int)\n",
    "iea = iea[['año','inc_entorchamiento', 'inc_hoja blanca',\n",
    "       'inc_piri_hoja', 'inc_helmitosporium', 'inc_rhizoctonia', 'inc_cercospora',\n",
    "       'inc_escaldado', 'inc_mancha_cafe', 'inc_gaeumanomices', 'inc_piricularia_cuello',\n",
    "       'inc_sarna_orejas', 'inc_complejo_bacterial']]\n",
    "iea.rename(columns = {'inc_entorchamiento':'Entorchamiento', 'inc_hoja blanca':'Hoja Blanca',\n",
    "       'inc_piri_hoja':'Piricularia en hoja', 'inc_helmitosporium':'Helminthosporium', 'inc_rhizoctonia':'Rhizoctonia', 'inc_cercospora':'Cercospora',\n",
    "       'inc_escaldado':'Escaldado', 'inc_mancha_cafe':'Mancha Café', 'inc_gaeumanomices':'Gaeumannomyces', 'inc_piricularia_cuello':'Piricularia en cuello',\n",
    "       'inc_sarna_orejas':'Sarna de las orejas', 'inc_complejo_bacterial':'Complejo bacteriano'}, inplace = True)\n",
    "# iea = iea.set_index('año')"
   ]
  },
  {
   "cell_type": "code",
   "execution_count": null,
   "metadata": {},
   "outputs": [],
   "source": [
    "colores_arroz = ['#073763','#07674D','#387025','#674ea7','#0075A2','#099AA2','#33CCCC','#54A738','#66FF99','#CC99FF','#5EEFF7','#77C4E8']\n",
    "marcadores_arroz = ['o','x','s','p','d','+','^','*','H','I','2','X']\n",
    "dd=pd.melt(iea,id_vars=['año'],value_vars=['Entorchamiento', 'Hoja Blanca', 'Piricularia en hoja',\n",
    "                                        'Gaeumannomyces',\n",
    "                                           'Piricularia en cuello', 'Complejo bacteriano'],\n",
    "           var_name='Enfermedad')\n",
    "dd"
   ]
  },
  {
   "cell_type": "code",
   "execution_count": null,
   "metadata": {},
   "outputs": [],
   "source": [
    "sns.set(style=\"white\")\n",
    "sns.set_palette(colores_arroz)\n",
    "plt.figure(figsize=(11.7,8.27),dpi=900)\n",
    "flierprops1 = dict(marker=marcadores_arroz[0], markersize = 1)\n",
    "ax = sns.boxplot(x='año',y='value',data=dd,hue='Enfermedad', markers=marcadores_arroz)\n",
    "sns.despine()\n",
    "plt.xlabel('AÑO')\n",
    "plt.ylabel('INCIDENCIA')"
   ]
  },
  {
   "cell_type": "code",
   "execution_count": null,
   "metadata": {},
   "outputs": [],
   "source": [
    "flierprops1 = dict(marker=marcadores_arroz[0], markersize = 0.3)\n",
    "# Create Blank Figure\n",
    "fig = plt.figure(figsize=(11.7,8.27))\n",
    "fig.suptitle('Lotes Sensores - Boxplot para incidencias de las enfermedades por año (Panel)')\n",
    "# Create 4x4 Grid\n",
    "gs = fig.add_gridspec(nrows=2, ncols=3,hspace=0.8, wspace=0.5)\n",
    "# Create Three Axes Objects\n",
    "ax1 = fig.add_subplot(gs[0, 0])\n",
    "iea[iea.index == 2015].boxplot(flierprops = flierprops1)\n",
    "ax1.grid(False)\n",
    "ax1.set_title('2015')\n",
    "plt.xticks(rotation = 90)\n",
    "ax1.spines['right'].set_visible(False)\n",
    "ax1.spines['top'].set_visible(False)\n",
    "ax1.grid(False)\n",
    "ax2 = fig.add_subplot(gs[0, 1])\n",
    "iea[iea.index == 2016].boxplot(flierprops = flierprops1)\n",
    "ax1.grid(False)\n",
    "ax2.set_title('2016')\n",
    "plt.xticks(rotation = 90)\n",
    "ax2.spines['right'].set_visible(False)\n",
    "ax2.spines['top'].set_visible(False)\n",
    "ax2.grid(False)\n",
    "ax3 = fig.add_subplot(gs[0, 2])\n",
    "iea[iea.index == 2017].boxplot(flierprops = flierprops1)\n",
    "ax1.grid(False)\n",
    "ax3.set_title('2017')\n",
    "plt.xticks(rotation = 90)\n",
    "ax3.spines['right'].set_visible(False)\n",
    "ax3.spines['top'].set_visible(False)\n",
    "ax3.grid(False)\n",
    "ax4 = fig.add_subplot(gs[1, 0])\n",
    "iea[iea.index == 2018].boxplot(flierprops = flierprops1)\n",
    "ax1.grid(False)\n",
    "ax4.set_title('2018')\n",
    "plt.xticks(rotation = 90)\n",
    "ax4.spines['right'].set_visible(False)\n",
    "ax4.spines['top'].set_visible(False)\n",
    "ax4.grid(False)\n",
    "ax5 = fig.add_subplot(gs[1, 1])\n",
    "ax5.spines['right'].set_visible(False)\n",
    "ax5.spines['top'].set_visible(False)\n",
    "ax5.grid(False)\n",
    "# Boxplots\n",
    "iea[iea.index == 2019].boxplot( flierprops = flierprops1)\n",
    "ax5.grid(False)\n",
    "plt.xticks(rotation = 90)\n",
    "ax5.set_title('2019')"
   ]
  },
  {
   "cell_type": "markdown",
   "metadata": {},
   "source": [
    "### INCIDENCIA DE LAS ENFERMEDADES POR ETAPA FENOLOGICA"
   ]
  },
  {
   "cell_type": "code",
   "execution_count": null,
   "metadata": {},
   "outputs": [],
   "source": [
    "ief = lsp[['etapa_fenologica','inc_entorchamiento', 'inc_hoja blanca',\n",
    "       'inc_piri_hoja', 'inc_helmitosporium', 'inc_rhizoctonia', 'inc_cercospora',\n",
    "       'inc_escaldado', 'inc_mancha_cafe', 'inc_gaeumanomices', 'inc_piricularia_cuello',\n",
    "       'inc_sarna_orejas', 'inc_complejo_bacterial']]\n",
    "\n",
    "ief.rename(columns = {'inc_entorchamiento':'Entorchamiento', 'inc_hoja blanca':'Hoja Blanca',\n",
    "       'inc_piri_hoja':'Piricularia en hoja', 'inc_helmitosporium':'Helminthosporium', 'inc_rhizoctonia':'Rhizoctonia', 'inc_cercospora':'Cercospora',\n",
    "       'inc_escaldado':'Escaldado', 'inc_mancha_cafe':'Mancha Café', 'inc_gaeumanomices':'Gaeumannomyces', 'inc_piricularia_cuello':'Piricularia en cuello',\n",
    "       'inc_sarna_orejas':'Sarna de las orejas', 'inc_complejo_bacterial':'Complejo bacteriano','etapa_fenologica':'FENOLOGIA'}, inplace = True)\n",
    "#ief = ief.set_index('FENOLOGIA')\n",
    "#ief"
   ]
  },
  {
   "cell_type": "code",
   "execution_count": null,
   "metadata": {},
   "outputs": [],
   "source": [
    "flierprops1 = dict(marker=marcadores_arroz[0], markersize = 0.3)\n",
    "# Create Blank Figure\n",
    "fig = plt.figure(figsize=(11.7,8.27))\n",
    "fig.suptitle('Lotes Sensores - Boxplot para incidencias de las enfermedades por etapa fenológica (Panel).')\n",
    "# Create 4x4 Grid\n",
    "gs = fig.add_gridspec(nrows=2, ncols=4,hspace=1, wspace=0.3)\n",
    "# Create Three Axes Objects\n",
    "ax1 = fig.add_subplot(gs[0, 0])\n",
    "ief[ief.index == 2].boxplot(flierprops = flierprops1)\n",
    "ax1.grid(False)\n",
    "ax1.set_title('ETAPA FENOLOGICA 2')\n",
    "plt.xticks(rotation = 90)\n",
    "ax1.spines['right'].set_visible(False)\n",
    "ax1.spines['top'].set_visible(False)\n",
    "ax1.grid(False)\n",
    "ax2 = fig.add_subplot(gs[0, 1])\n",
    "ief[ief.index == 3].boxplot(flierprops = flierprops1)\n",
    "ax1.grid(False)\n",
    "ax2.set_title('ETAPA FENOLOGICA 3')\n",
    "plt.xticks(rotation = 90)\n",
    "ax2.spines['right'].set_visible(False)\n",
    "ax2.spines['top'].set_visible(False)\n",
    "ax2.grid(False)\n",
    "ax3 = fig.add_subplot(gs[0, 2])\n",
    "ief[ief.index == 4].boxplot(flierprops = flierprops1)\n",
    "ax1.grid(False)\n",
    "ax3.set_title('ETAPA FENOLOGICA 4')\n",
    "plt.xticks(rotation = 90)\n",
    "ax3.spines['right'].set_visible(False)\n",
    "ax3.spines['top'].set_visible(False)\n",
    "ax3.grid(False)\n",
    "ax4 = fig.add_subplot(gs[0, 3])\n",
    "ief[ief.index == 5].boxplot(flierprops = flierprops1)\n",
    "ax1.grid(False)\n",
    "ax4.set_title('ETAPA FENOLOGICA 5')\n",
    "plt.xticks(rotation = 90)\n",
    "ax4.spines['right'].set_visible(False)\n",
    "ax4.spines['top'].set_visible(False)\n",
    "ax4.grid(False)\n",
    "ax5 = fig.add_subplot(gs[1, 0])\n",
    "ax5.spines['right'].set_visible(False)\n",
    "ax5.spines['top'].set_visible(False)\n",
    "ax5.grid(False)\n",
    "ief[ief.index == 6].boxplot( flierprops = flierprops1)\n",
    "ax5.grid(False)\n",
    "plt.xticks(rotation = 90)\n",
    "ax5.set_title('ETAPA FENOLOGICA 6')\n",
    "\n",
    "ax5 = fig.add_subplot(gs[1, 1])\n",
    "ax5.spines['right'].set_visible(False)\n",
    "ax5.spines['top'].set_visible(False)\n",
    "ax5.grid(False)\n",
    "ief[ief.index == 7].boxplot( flierprops = flierprops1)\n",
    "ax5.grid(False)\n",
    "plt.xticks(rotation = 90)\n",
    "ax5.set_title('ETAPA FENOLOGICA 7')\n",
    "\n",
    "ax5 = fig.add_subplot(gs[1, 2])\n",
    "ax5.spines['right'].set_visible(False)\n",
    "ax5.spines['top'].set_visible(False)\n",
    "ax5.grid(False)\n",
    "ief[ief.index == 8].boxplot( flierprops = flierprops1)\n",
    "ax5.grid(False)\n",
    "plt.xticks(rotation = 90)\n",
    "ax5.set_title('ETAPA FENOLOGICA 8')"
   ]
  },
  {
   "cell_type": "code",
   "execution_count": null,
   "metadata": {},
   "outputs": [],
   "source": [
    "dd1=pd.melt(ief,id_vars=['FENOLOGIA'],value_vars=['Entorchamiento', 'Hoja Blanca', 'Piricularia en hoja', 'Gaeumannomyces',\n",
    "                                           'Piricularia en cuello',  'Complejo bacteriano'],\n",
    "           var_name='Enfermedad')\n",
    "dd1"
   ]
  },
  {
   "cell_type": "code",
   "execution_count": null,
   "metadata": {},
   "outputs": [],
   "source": [
    "sns.set(style=\"white\")\n",
    "sns.set_palette(colores_arroz)\n",
    "plt.figure(figsize=(11.7,8.27),dpi=900)\n",
    "flierprops1 = dict(marker=marcadores_arroz[0], markersize = 1)\n",
    "ax = sns.lineplot(x='FENOLOGIA',y='value',data=dd1,hue='Enfermedad',flierprops=flierprops1)\n",
    "sns.despine()\n",
    "plt.xlabel('ETAPA FENOLOGICA')\n",
    "plt.ylabel('INCIDENCIA')"
   ]
  },
  {
   "cell_type": "markdown",
   "metadata": {},
   "source": [
    "### SEVERIDAD DE LAS ENFERMEDADES POR AÑO"
   ]
  },
  {
   "cell_type": "code",
   "execution_count": null,
   "metadata": {},
   "outputs": [],
   "source": [
    "sea = lsp[['anio_db_org', 'fecha_evaluacion',\n",
    "       'sev_piricularia_hoja', 'sev_helmitosporium', 'sev_rhizoctonia', 'sev_cercospora',\n",
    "       'sev_escaldado', 'sev_mancha_cafe', 'sev_gaeumanomices', 'sev_manchado_grano']]\n",
    "# Corrección del año 2015 para la correcta visualización.\n",
    "sea['año'] = np.where(sea.fecha_evaluacion.dt.year == 2015, sea['fecha_evaluacion'].dt.year,sea['anio_db_org'])\n",
    "sea['año'] = sea['año'].astype(int)\n",
    "sea = sea[['año',\n",
    "       'sev_piricularia_hoja', 'sev_helmitosporium', 'sev_rhizoctonia', 'sev_cercospora',\n",
    "       'sev_escaldado', 'sev_mancha_cafe', 'sev_gaeumanomices', 'sev_manchado_grano']]\n",
    "sea.rename(columns = {\n",
    "       'sev_piricularia_hoja':'Piricularia en hoja', 'sev_helmitosporium':'Helminthosporium', 'sev_rhizoctonia':'Rhizoctonia', 'sev_cercospora':'Cercospora',\n",
    "       'sev_escaldado':'Escaldado', 'sev_mancha_cafe':'Mancha Café', 'sev_gaeumanomices':'Gaeumannomyces','sev_manchado_grano':'Manchado de grano'}, inplace = True)\n",
    "sea = sea.set_index('año')       "
   ]
  },
  {
   "cell_type": "code",
   "execution_count": null,
   "metadata": {},
   "outputs": [],
   "source": [
    "sea"
   ]
  },
  {
   "cell_type": "code",
   "execution_count": null,
   "metadata": {},
   "outputs": [],
   "source": [
    "flierprops1 = dict(marker=marcadores_arroz[0], markersize = 0.3)\n",
    "# Create Blank Figure\n",
    "fig = plt.figure(figsize=(11.7,8.27))\n",
    "fig.suptitle('Lotes Sensores - Boxplot para severidad de las enfermedades por año y etapa fenológica')\n",
    "# Create 4x4 Grid\n",
    "gs = fig.add_gridspec(nrows=2, ncols=3,hspace=0.8, wspace=0.5)\n",
    "# Create Three Axes Objects\n",
    "ax1 = fig.add_subplot(gs[0, 0])\n",
    "sea[sea.index == 2015].boxplot(flierprops = flierprops1)\n",
    "ax1.grid(False)\n",
    "ax1.set_title('2015')\n",
    "plt.xticks(rotation = 90)\n",
    "ax1.spines['right'].set_visible(False)\n",
    "ax1.spines['top'].set_visible(False)\n",
    "ax1.grid(False)\n",
    "ax2 = fig.add_subplot(gs[0, 1])\n",
    "sea[sea.index == 2016].boxplot(flierprops = flierprops1)\n",
    "ax1.grid(False)\n",
    "ax2.set_title('2016')\n",
    "plt.xticks(rotation = 90)\n",
    "ax2.spines['right'].set_visible(False)\n",
    "ax2.spines['top'].set_visible(False)\n",
    "ax2.grid(False)\n",
    "ax3 = fig.add_subplot(gs[0, 2])\n",
    "sea[sea.index == 2017].boxplot(flierprops = flierprops1)\n",
    "ax1.grid(False)\n",
    "ax3.set_title('2017')\n",
    "plt.xticks(rotation = 90)\n",
    "ax3.spines['right'].set_visible(False)\n",
    "ax3.spines['top'].set_visible(False)\n",
    "ax3.grid(False)\n",
    "ax4 = fig.add_subplot(gs[1, 0])\n",
    "sea[sea.index == 2018].boxplot(flierprops = flierprops1)\n",
    "ax1.grid(False)\n",
    "ax4.set_title('2018')\n",
    "plt.xticks(rotation = 90)\n",
    "ax4.spines['right'].set_visible(False)\n",
    "ax4.spines['top'].set_visible(False)\n",
    "ax4.grid(False)\n",
    "ax5 = fig.add_subplot(gs[1, 1])\n",
    "ax5.spines['right'].set_visible(False)\n",
    "ax5.spines['top'].set_visible(False)\n",
    "ax5.grid(False)\n",
    "# Boxplots\n",
    "sea[sea.index == 2019].boxplot( flierprops = flierprops1)\n",
    "ax5.grid(False)\n",
    "plt.xticks(rotation = 90)\n",
    "ax5.set_title('2019')"
   ]
  },
  {
   "cell_type": "code",
   "execution_count": null,
   "metadata": {},
   "outputs": [],
   "source": [
    "colores_arroz = ['#073763','#07674D','#387025','#674ea7','#0075A2','#099AA2','#33CCCC','#54A738','#66FF99','#CC99FF','#5EEFF7','#77C4E8']\n",
    "marcadores_arroz = ['o','x','s','p','d','+','^','*','H','I','2','X']\n",
    "dd2=pd.melt(sea,id_vars=['año'],value_vars=['Piricularia en hoja', 'Helminthosporium', 'Rhizoctonia',\n",
    "                                           'Cercospora', 'Escaldado', 'Mancha Café', 'Gaeumannomyces',\n",
    "                                           'Manchado de grano'],\n",
    "           var_name='Enfermedad')\n",
    "dd2"
   ]
  },
  {
   "cell_type": "code",
   "execution_count": null,
   "metadata": {},
   "outputs": [],
   "source": [
    "colores_arroz = ['#387025','#674ea7','#0075A2','#099AA2','#33CCCC','#54A738','#66FF99','#00FF40']\n",
    "marcadores_arroz = ['o','x','s','p','d','+','^','*','H','I','2','X']\n",
    "sns.set(style=\"white\")\n",
    "sns.set_palette(colores_arroz)\n",
    "plt.figure(figsize=(11.7,8.27),dpi=900)\n",
    "flierprops1 = dict(marker=marcadores_arroz[0], markersize = 1)\n",
    "ax = sns.boxplot(x='año',y='value',data=dd2,hue='Enfermedad',flierprops=flierprops1)\n",
    "sns.despine()\n",
    "plt.xlabel('AÑO')\n",
    "plt.ylabel('% SEVERIDAD')"
   ]
  },
  {
   "cell_type": "markdown",
   "metadata": {},
   "source": [
    "### SEVERIDAD DE LAS ENFERMEDADES POR ETAPA FENOLOGICA"
   ]
  },
  {
   "cell_type": "code",
   "execution_count": null,
   "metadata": {},
   "outputs": [],
   "source": [
    "sef = lsp[['etapa_fenologica', 'fecha_evaluacion',\n",
    "       'sev_piricularia_hoja', 'sev_helmitosporium', 'sev_rhizoctonia', 'sev_cercospora',\n",
    "       'sev_escaldado', 'sev_mancha_cafe', 'sev_gaeumanomices', 'sev_manchado_grano']]\n",
    "\n",
    "sef.rename(columns = {'etapa_fenologica':'FENOLOGIA',\n",
    "       'sev_piricularia_hoja':'Piricularia en hoja', 'sev_helmitosporium':'Helminthosporium', 'sev_rhizoctonia':'Rhizoctonia', 'sev_cercospora':'Cercospora',\n",
    "       'sev_escaldado':'Escaldado', 'sev_mancha_cafe':'Mancha Café', 'sev_gaeumanomices':'Gaeumannomyces','sev_manchado_grano':'Manchado de grano'}, inplace = True)\n",
    "sef = sef.set_index('FENOLOGIA')"
   ]
  },
  {
   "cell_type": "code",
   "execution_count": null,
   "metadata": {},
   "outputs": [],
   "source": [
    "flierprops1 = dict(marker=marcadores_arroz[0], markersize = 0.3)\n",
    "# Create Blank Figure\n",
    "fig = plt.figure(figsize=(11.7,8.27))\n",
    "fig.suptitle('Lotes Sensores - Boxplot para severidad de las enfermedades por etapa fenológica (Panel)')\n",
    "# Create 4x4 Grid\n",
    "gs = fig.add_gridspec(nrows=2, ncols=4,hspace=1, wspace=0.3)\n",
    "# Create Three Axes Objects\n",
    "ax1 = fig.add_subplot(gs[0, 0])\n",
    "sef[sef.index == 2].boxplot(flierprops = flierprops1)\n",
    "ax1.grid(False)\n",
    "ax1.set_title('ETAPA FENOLOGICA 2')\n",
    "plt.xticks(rotation = 90)\n",
    "ax1.spines['right'].set_visible(False)\n",
    "ax1.spines['top'].set_visible(False)\n",
    "ax1.grid(False)\n",
    "ax2 = fig.add_subplot(gs[0, 1])\n",
    "sef[sef.index == 3].boxplot(flierprops = flierprops1)\n",
    "ax1.grid(False)\n",
    "ax2.set_title('ETAPA FENOLOGICA 3')\n",
    "plt.xticks(rotation = 90)\n",
    "ax2.spines['right'].set_visible(False)\n",
    "ax2.spines['top'].set_visible(False)\n",
    "ax2.grid(False)\n",
    "ax3 = fig.add_subplot(gs[0, 2])\n",
    "sef[sef.index == 4].boxplot(flierprops = flierprops1)\n",
    "ax1.grid(False)\n",
    "ax3.set_title('ETAPA FENOLOGICA 4')\n",
    "plt.xticks(rotation = 90)\n",
    "ax3.spines['right'].set_visible(False)\n",
    "ax3.spines['top'].set_visible(False)\n",
    "ax3.grid(False)\n",
    "ax4 = fig.add_subplot(gs[0, 3])\n",
    "sef[sef.index == 5].boxplot(flierprops = flierprops1)\n",
    "ax1.grid(False)\n",
    "ax4.set_title('ETAPA FENOLOGICA 5')\n",
    "plt.xticks(rotation = 90)\n",
    "ax4.spines['right'].set_visible(False)\n",
    "ax4.spines['top'].set_visible(False)\n",
    "ax4.grid(False)\n",
    "ax5 = fig.add_subplot(gs[1, 0])\n",
    "ax5.spines['right'].set_visible(False)\n",
    "ax5.spines['top'].set_visible(False)\n",
    "ax5.grid(False)\n",
    "sef[sef.index == 6].boxplot( flierprops = flierprops1)\n",
    "ax5.grid(False)\n",
    "plt.xticks(rotation = 90)\n",
    "ax5.set_title('ETAPA FENOLOGICA 6')\n",
    "\n",
    "ax5 = fig.add_subplot(gs[1, 1])\n",
    "ax5.spines['right'].set_visible(False)\n",
    "ax5.spines['top'].set_visible(False)\n",
    "ax5.grid(False)\n",
    "sef[sef.index == 7].boxplot( flierprops = flierprops1)\n",
    "ax5.grid(False)\n",
    "plt.xticks(rotation = 90)\n",
    "ax5.set_title('ETAPA FENOLOGICA 7')\n",
    "\n",
    "ax5 = fig.add_subplot(gs[1, 2])\n",
    "ax5.spines['right'].set_visible(False)\n",
    "ax5.spines['top'].set_visible(False)\n",
    "ax5.grid(False)\n",
    "sef[sef.index == 8].boxplot( flierprops = flierprops1)\n",
    "ax5.grid(False)\n",
    "plt.xticks(rotation = 90)\n",
    "ax5.set_title('ETAPA FENOLOGICA 8')"
   ]
  },
  {
   "cell_type": "code",
   "execution_count": null,
   "metadata": {},
   "outputs": [],
   "source": [
    "dd3=pd.melt(sef,id_vars=['FENOLOGIA'],value_vars=['Piricularia en hoja', 'Helminthosporium', 'Rhizoctonia',\n",
    "                                           'Cercospora', 'Escaldado', 'Mancha Café', 'Gaeumannomyces',\n",
    "                                           'Manchado de grano'],\n",
    "           var_name='Enfermedad')\n",
    "dd3"
   ]
  },
  {
   "cell_type": "code",
   "execution_count": null,
   "metadata": {},
   "outputs": [],
   "source": [
    "colores_arroz = ['#387025','#674ea7','#0075A2','#099AA2','#33CCCC','#54A738','#66FF99','#00FF40']\n",
    "marcadores_arroz = ['o','x','s','p','d','+','^','*','H','I','2','X']\n",
    "sns.set(style=\"white\")\n",
    "sns.set_palette(colores_arroz)\n",
    "plt.figure(figsize=(11.7,8.27),dpi=900)\n",
    "flierprops1 = dict(marker=marcadores_arroz[0], markersize = 1)\n",
    "ax = sns.boxplot(x='FENOLOGIA',y='value',data=dd3,hue='Enfermedad',flierprops=flierprops1)\n",
    "sns.despine()\n",
    "plt.xlabel('ETAPA FENOLOGICA')\n",
    "plt.ylabel('% SEVERIDAD')"
   ]
  },
  {
   "cell_type": "code",
   "execution_count": null,
   "metadata": {},
   "outputs": [],
   "source": []
  }
 ],
 "metadata": {
  "interpreter": {
   "hash": "05b5d929e9536fb7c87db1a95b2460fb8a3c6df40ef6a81d721e067c17d9a053"
  },
  "kernelspec": {
   "display_name": "Python 3.10.3 ('aplicativo')",
   "language": "python",
   "name": "python3"
  },
  "language_info": {
   "codemirror_mode": {
    "name": "ipython",
    "version": 3
   },
   "file_extension": ".py",
   "mimetype": "text/x-python",
   "name": "python",
   "nbconvert_exporter": "python",
   "pygments_lexer": "ipython3",
   "version": "3.10.3"
  },
  "orig_nbformat": 4
 },
 "nbformat": 4,
 "nbformat_minor": 2
}
