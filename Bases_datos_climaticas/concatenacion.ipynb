{
 "cells": [
  {
   "cell_type": "code",
   "execution_count": 1,
   "metadata": {},
   "outputs": [],
   "source": [
    "import pandas as pd\n",
    "import glob\n",
    "import warnings\n",
    "warnings.filterwarnings(\"ignore\")\n",
    "my_files_path = glob.glob(r'C:/Users/javie/Desktop/ProyectoArroz/Bases_datos_climaticas/*.txt')"
   ]
  },
  {
   "cell_type": "code",
   "execution_count": 2,
   "metadata": {},
   "outputs": [],
   "source": [
    "# Creating a file upload function\n",
    "def file_upload(path):\n",
    "    df = pd.read_table(path)\n",
    "    df.columns = df.columns.str.lower()\n",
    "    df = df.rename(columns = {'estacio':'estacion'})\n",
    "    df['estacion'] = df['estacion'].astype(str) + '-' + df['nombre_estacion'].astype(str)\n",
    "    df = df[['estacion','date', 'rain', 'tmax', 'tmin', 'rhum', 'esol', 'x', 'y', 'modif']]\n",
    "    df['date'] = pd.to_datetime(df['date'], infer_datetime_format=True)\n",
    "    if df['x'][0] > 0:\n",
    "        df = df.rename(columns = {'y':'x','x':'y'})\n",
    "    df['estacion'] = df['estacion'].astype(str)\n",
    "    df['rain'] = df['rain'].astype(float)\n",
    "    df['tmax'] = df['tmax'].astype(float)\n",
    "    df['tmin'] = df['tmin'].astype(float)\n",
    "    df['rhum'] = df['rhum'].astype(float)\n",
    "    df['esol'] = df['esol'].astype(float)\n",
    "    df['x'] = df['x'].astype(float)\n",
    "    df['y'] = df['y'].astype(float)\n",
    "    df['modif'] = df['modif'].astype(str)\n",
    "    return df"
   ]
  },
  {
   "cell_type": "code",
   "execution_count": 3,
   "metadata": {},
   "outputs": [],
   "source": [
    "db_clim = pd.DataFrame()\n",
    "for tabla in my_files_path:\n",
    "    prueba = file_upload(tabla)\n",
    "    db_clim = pd.concat([db_clim,prueba])\n"
   ]
  },
  {
   "cell_type": "code",
   "execution_count": 4,
   "metadata": {},
   "outputs": [],
   "source": [
    "db_clim[['estacion','date','rain','x','y','modif']].to_csv('db_rain.csv',index = False)\n",
    "db_clim[['estacion','date','tmax','tmin','rhum','esol','x','y','modif']].to_csv('db_withouth_rain.csv',index = False)"
   ]
  }
 ],
 "metadata": {
  "interpreter": {
   "hash": "b89b5cfaba6639976dc87ff2fec6d58faec662063367e2c229c520fe71072417"
  },
  "kernelspec": {
   "display_name": "Python 3.10.2 64-bit",
   "language": "python",
   "name": "python3"
  },
  "language_info": {
   "codemirror_mode": {
    "name": "ipython",
    "version": 3
   },
   "file_extension": ".py",
   "mimetype": "text/x-python",
   "name": "python",
   "nbconvert_exporter": "python",
   "pygments_lexer": "ipython3",
   "version": "3.10.2"
  },
  "orig_nbformat": 4
 },
 "nbformat": 4,
 "nbformat_minor": 2
}
